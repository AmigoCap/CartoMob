{
 "cells": [
  {
   "cell_type": "code",
   "execution_count": 1,
   "metadata": {},
   "outputs": [
    {
     "data": {
      "text/plain": [
       "{'accuracy': 302,\n",
       " 'activity': [{'activity': [{'confidence': 56, 'type': 'STILL'},\n",
       "    {'confidence': 26, 'type': 'ON_FOOT'},\n",
       "    {'confidence': 26, 'type': 'WALKING'},\n",
       "    {'confidence': 9, 'type': 'UNKNOWN'},\n",
       "    {'confidence': 2, 'type': 'IN_VEHICLE'},\n",
       "    {'confidence': 2, 'type': 'ON_BICYCLE'},\n",
       "    {'confidence': 2, 'type': 'RUNNING'},\n",
       "    {'confidence': 2, 'type': 'IN_ROAD_VEHICLE'},\n",
       "    {'confidence': 2, 'type': 'IN_RAIL_VEHICLE'}],\n",
       "   'timestampMs': '1510144804782'}],\n",
       " 'latitudeE7': 457834933,\n",
       " 'longitudeE7': 47701230,\n",
       " 'timestampMs': '1510144798051'}"
      ]
     },
     "execution_count": 1,
     "metadata": {},
     "output_type": "execute_result"
    }
   ],
   "source": [
    " {\n",
    "    \"timestampMs\" : \"1510144798051\",\n",
    "    \"latitudeE7\" : 457834933,\n",
    "    \"longitudeE7\" : 47701230,\n",
    "    \"accuracy\" : 302,\n",
    "    \"activity\" : [ {\n",
    "      \"timestampMs\" : \"1510144804782\",\n",
    "      \"activity\" : [ {\n",
    "        \"type\" : \"STILL\",\n",
    "        \"confidence\" : 56\n",
    "      }, {\n",
    "        \"type\" : \"ON_FOOT\",\n",
    "        \"confidence\" : 26\n",
    "      }, {\n",
    "        \"type\" : \"WALKING\",\n",
    "        \"confidence\" : 26\n",
    "      }, {\n",
    "        \"type\" : \"UNKNOWN\",\n",
    "        \"confidence\" : 9\n",
    "      }, {\n",
    "        \"type\" : \"IN_VEHICLE\",\n",
    "        \"confidence\" : 2\n",
    "      }, {\n",
    "        \"type\" : \"ON_BICYCLE\",\n",
    "        \"confidence\" : 2\n",
    "      }, {\n",
    "        \"type\" : \"RUNNING\",\n",
    "        \"confidence\" : 2\n",
    "      }, {\n",
    "        \"type\" : \"IN_ROAD_VEHICLE\",\n",
    "        \"confidence\" : 2\n",
    "      }, {\n",
    "        \"type\" : \"IN_RAIL_VEHICLE\",\n",
    "        \"confidence\" : 2\n",
    "      } ]\n",
    "    } ]\n",
    "  }"
   ]
  },
  {
   "cell_type": "markdown",
   "metadata": {},
   "source": [
    "Il s'agit d'un exemple de jeu de données obtenu à partir de Google Maps (Google Takeout)"
   ]
  },
  {
   "cell_type": "code",
   "execution_count": 11,
   "metadata": {},
   "outputs": [],
   "source": [
    "timestampMs = 1510144798.051"
   ]
  },
  {
   "cell_type": "markdown",
   "metadata": {},
   "source": [
    "Tampon-date. Cela correspond au nombre de secondes écoulées depuis le 1er Janvier 1970 à 00h00. (Epoch Unix)\n",
    "Ici, 1510144798 désigne le 8 Novembre 2017 à 12h39 UTC, soit 13h39 en France.\n",
    "Le 051 donne le temps à la milliseconde près.\n",
    "\n",
    "Dans Python : importer le module « time »\n",
    "\n",
    "Pour obtenir le temps local :"
   ]
  },
  {
   "cell_type": "code",
   "execution_count": 13,
   "metadata": {},
   "outputs": [
    {
     "name": "stdout",
     "output_type": "stream",
     "text": [
      "1510151838.3076808\n",
      "1510144798.051\n"
     ]
    }
   ],
   "source": [
    "import time\n",
    "t = time.time()\n",
    "print(t)\n",
    "\n",
    "print(timestampMs)"
   ]
  },
  {
   "cell_type": "markdown",
   "metadata": {},
   "source": [
    "Pour convertir le temps Epoch en une date compréhensible :"
   ]
  },
  {
   "cell_type": "code",
   "execution_count": 15,
   "metadata": {},
   "outputs": [
    {
     "name": "stdout",
     "output_type": "stream",
     "text": [
      "time.struct_time(tm_year=2017, tm_mon=11, tm_mday=8, tm_hour=14, tm_min=37, tm_sec=18, tm_wday=2, tm_yday=312, tm_isdst=0)\n",
      "time.struct_time(tm_year=2017, tm_mon=11, tm_mday=8, tm_hour=12, tm_min=39, tm_sec=58, tm_wday=2, tm_yday=312, tm_isdst=0)\n"
     ]
    }
   ],
   "source": [
    "print(time.gmtime(t))\n",
    "print(time.gmtime(timestampMs))"
   ]
  },
  {
   "cell_type": "markdown",
   "metadata": {},
   "source": [
    "Plus d'informations sur le module time : https://docs.python.org/3/library/time.html?highlight=time#module-time"
   ]
  },
  {
   "cell_type": "code",
   "execution_count": 16,
   "metadata": {
    "collapsed": true
   },
   "outputs": [],
   "source": [
    "#\"latitudeE7\" : 457834933,\n",
    "#\"longitudeE7\" : 47701230,\n",
    "\n",
    "lat = 45.7834933\n",
    "lon = 4.7701230"
   ]
  },
  {
   "cell_type": "markdown",
   "metadata": {},
   "source": [
    "Google Maps utilise pour mesurer des coordonnées GPS le système de degrées géographiques décimales. Il est associé au système géodésique mondial WGS84 (utilisé par le système GPS). Il s'agit d'un modèle d'ellipsoïde qui sert de référence pour modéliser la Terre.\n",
    "\n",
    "La latitude est une information en degrés entre -90 et 90. Si elle est positive, cela désigne l'hémisphère Nord, sinon c'est l'hémisphère Sud.\n",
    "\n",
    "La longitude est une information en degrés entre -180 et 180. Si elle est positive, cela désigne la partie à l'Est du méridien de Greenwich, sinon c'est la partie à l'Ouest."
   ]
  },
  {
   "cell_type": "code",
   "execution_count": 17,
   "metadata": {
    "collapsed": true
   },
   "outputs": [],
   "source": [
    "# \"accuracy\" : 302"
   ]
  },
  {
   "cell_type": "markdown",
   "metadata": {},
   "source": [
    "On suppose qu'il s'agit de la précision de la mesure GPS en mètres."
   ]
  },
  {
   "cell_type": "code",
   "execution_count": 18,
   "metadata": {},
   "outputs": [
    {
     "ename": "IndentationError",
     "evalue": "unexpected indent (<ipython-input-18-df71db2c4244>, line 2)",
     "output_type": "error",
     "traceback": [
      "\u001b[1;36m  File \u001b[1;32m\"<ipython-input-18-df71db2c4244>\"\u001b[1;36m, line \u001b[1;32m2\u001b[0m\n\u001b[1;33m    \"type\" : \"STILL\",\u001b[0m\n\u001b[1;37m    ^\u001b[0m\n\u001b[1;31mIndentationError\u001b[0m\u001b[1;31m:\u001b[0m unexpected indent\n"
     ]
    }
   ],
   "source": [
    "\"activity\" : [ {\n",
    "        \"type\" : \"STILL\",\n",
    "        \"confidence\" : 56\n",
    "      }, {\n",
    "        \"type\" : \"ON_FOOT\",\n",
    "        \"confidence\" : 26\n",
    "      }, {\n",
    "        \"type\" : \"WALKING\",\n",
    "        \"confidence\" : 26\n",
    "      }, {\n",
    "        \"type\" : \"UNKNOWN\",\n",
    "        \"confidence\" : 9\n",
    "      }, {\n",
    "        \"type\" : \"IN_VEHICLE\",\n",
    "        \"confidence\" : 2\n",
    "      }, {\n",
    "        \"type\" : \"ON_BICYCLE\",\n",
    "        \"confidence\" : 2\n",
    "      }, {\n",
    "        \"type\" : \"RUNNING\",\n",
    "        \"confidence\" : 2\n",
    "      }, {\n",
    "        \"type\" : \"IN_ROAD_VEHICLE\",\n",
    "        \"confidence\" : 2\n",
    "      }, {\n",
    "        \"type\" : \"IN_RAIL_VEHICLE\",\n",
    "        \"confidence\" : 2\n",
    "      } ]\n",
    "    } ]"
   ]
  },
  {
   "cell_type": "markdown",
   "metadata": {},
   "source": [
    "Google Maps semble déterminer notre moyen de transport en fonction de notre vitesse et de notre trajectoire.\n",
    "- STILL : Immobile\n",
    "- ON_FOOT : A pied\n",
    "- WALKING : Marchant\n",
    "- UNKNOWN : Inconnu\n",
    "- IN_VEHICLE : Dans un véhicule (voiture, bus...)\n",
    "- ON_BICYCLE : A vélo\n",
    "- RUNNING : En courant\n",
    "- IN_ROAD_VEHICLE : Dans un véhicule sur la route (voiture, car?)\n",
    "- IN_RAIL_VEHICLE : En train"
   ]
  }
 ],
 "metadata": {
  "kernelspec": {
   "display_name": "Python 3",
   "language": "python",
   "name": "python3"
  },
  "language_info": {
   "codemirror_mode": {
    "name": "ipython",
    "version": 3
   },
   "file_extension": ".py",
   "mimetype": "text/x-python",
   "name": "python",
   "nbconvert_exporter": "python",
   "pygments_lexer": "ipython3",
   "version": "3.6.1"
  }
 },
 "nbformat": 4,
 "nbformat_minor": 2
}
