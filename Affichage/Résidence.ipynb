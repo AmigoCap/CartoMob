{
 "cells": [
  {
   "cell_type": "markdown",
   "metadata": {},
   "source": [
    "Raphaël Chalicarne\n",
    "28/2/18\n",
    "PE 35"
   ]
  },
  {
   "cell_type": "markdown",
   "metadata": {},
   "source": [
    "Dans ce Notebook, j'ai testé deux méthodes pour déterminer l'appartenance d'un point à la zone des Résidences, comprenant Comparat et Adoma.\n",
    "- La méthode du \"Rectangle\"\n",
    "- La méthode de \"Pénalisation\""
   ]
  },
  {
   "cell_type": "markdown",
   "metadata": {},
   "source": [
    "# Méthode Rectangle"
   ]
  },
  {
   "cell_type": "markdown",
   "metadata": {},
   "source": [
    "On récupère les coordonnées GPS de quatre points A,B,C et D pour définir un polygone. On veut coder une fonction qui détermine si un point est dans ce polygone ou non.\n",
    "\n",
    "<img src=\"residence.png\"/>"
   ]
  },
  {
   "cell_type": "code",
   "execution_count": 7,
   "metadata": {
    "collapsed": true
   },
   "outputs": [],
   "source": [
    "import json\n",
    "import pandas as pd\n",
    "import matplotlib.pyplot as plt\n",
    "import time as t\n",
    "import numpy as np\n",
    "\n",
    "#Lecture du fichier\n",
    "file = \"Historique des positions raphael 170218.json\"\n",
    "df = pd.read_json(file)\n",
    "donnee=df.get(\"locations\")\n",
    "\n",
    "#Récupération des latitudes, longitudes et des dates\n",
    "lat=[]\n",
    "long=[]\n",
    "temps=[]\n",
    "\n",
    "for i in range(len(donnee)):\n",
    "    lat.append(donnee[i][\"latitudeE7\"]/1e7)\n",
    "    long.append(donnee[i][\"longitudeE7\"]/1e7)\n",
    "    temps.append(donnee[i][\"timestampMs\"])\n",
    "\n",
    "def conv(temps):\n",
    "    \"\"\"Ce programme permet de convertir la liste des temps (de type string) en une liste des temps de type float, également utilisable par le module time\"\"\"\n",
    "    n = len(temps)\n",
    "    liste = [0]*n\n",
    "    for i in range(n):\n",
    "        t0 = 0.001*float(temps[i])\n",
    "        liste[i]=t0\n",
    "    return liste\n",
    "\n",
    "temps = conv(temps)"
   ]
  },
  {
   "cell_type": "markdown",
   "metadata": {},
   "source": [
    "Récupération des données GPS de OpenStreetMap\n",
    "(au format [latitude, longitude])"
   ]
  },
  {
   "cell_type": "code",
   "execution_count": 8,
   "metadata": {
    "collapsed": true
   },
   "outputs": [],
   "source": [
    "A = [45.7834,4.77088]\n",
    "B = [45.78346,4.77157]\n",
    "C = [45.78122,4.7703]\n",
    "D = [45.78134,4.76966]"
   ]
  },
  {
   "cell_type": "markdown",
   "metadata": {},
   "source": [
    "Récupération des données GPS de GoogleMaps (les mesures sont plus précises)"
   ]
  },
  {
   "cell_type": "code",
   "execution_count": 9,
   "metadata": {
    "collapsed": true
   },
   "outputs": [],
   "source": [
    "X = [45.78253,4.77057] #Point dans le batiment X\n",
    "S = [45.78321,4.76890] #Point sur le stade\n",
    "ES = [45.782626, 4.770143] #Extrémité stade\n",
    "\n",
    "#Mesures Google Maps\n",
    "A = [45.783566, 4.770862]\n",
    "B = [45.783438, 4.771527]\n",
    "C = [45.781155, 4.770218]\n",
    "D = [45.781364, 4.769370]"
   ]
  },
  {
   "cell_type": "markdown",
   "metadata": {},
   "source": [
    "On définit un programme donnant le coefficient directeur a et l'ordonnée à l'origine b d'une fonction affine de la forme y = a*x + b, à partir de deux points appartenant à la droite."
   ]
  },
  {
   "cell_type": "code",
   "execution_count": 11,
   "metadata": {
    "collapsed": true
   },
   "outputs": [],
   "source": [
    "def param_affine(pointA,pointB):\n",
    "    \"\"\"pointA = [x1,y1]\n",
    "    pointB = [x2,y2]\"\"\"\n",
    "    x1,y1 = pointA\n",
    "    x2,y2 = pointB\n",
    "    a = (y2-y1)/(x2-x1)\n",
    "    b = (x2*y1-x1*y2)/(x2-x1)\n",
    "    return a,b"
   ]
  },
  {
   "cell_type": "markdown",
   "metadata": {},
   "source": [
    "On récupère les coordonnées des droites C1, C2, C3 et C4."
   ]
  },
  {
   "cell_type": "code",
   "execution_count": 12,
   "metadata": {
    "collapsed": true
   },
   "outputs": [],
   "source": [
    "C1 = param_affine(A,B)\n",
    "C2 = param_affine(B,C)\n",
    "C3 = param_affine(C,D)\n",
    "C4 = param_affine(D,A)\n",
    "\n",
    "a1, b1 = C1\n",
    "a2, b2 = C2\n",
    "a3, b3 = C3\n",
    "a4, b4 = C4"
   ]
  },
  {
   "cell_type": "markdown",
   "metadata": {},
   "source": [
    "On définit alors la fonction is_in_Residence(point) qui renvoie un booléen selon que le point considéré soit dans le polygone ABCD ou non."
   ]
  },
  {
   "cell_type": "code",
   "execution_count": 13,
   "metadata": {
    "collapsed": true
   },
   "outputs": [],
   "source": [
    "def is_in_Residence(point):\n",
    "    \"\"\"Entrée : point =[x,y]\"\"\"\n",
    "    x, y = point\n",
    "    yC1 = a1*x + b1\n",
    "    yC2 = a2*x + b2\n",
    "    yC3 = a3*x + b3\n",
    "    yC4 = a4*x + b4\n",
    "    if yC1>y>yC3 and yC4>y>yC2:\n",
    "        return True\n",
    "    else:\n",
    "        return False"
   ]
  },
  {
   "cell_type": "markdown",
   "metadata": {},
   "source": [
    "Ce programme ne fonctionne pas à cause d'incertitudes sur les coordonnées GPS de chaque point. En effet, en calculant les coefficients directeurs, on effectue une division par des coordonnées très proches, ce qui cause une grosse incertitude."
   ]
  },
  {
   "cell_type": "code",
   "execution_count": 14,
   "metadata": {},
   "outputs": [
    {
     "name": "stdout",
     "output_type": "stream",
     "text": [
      "Le point X est dans la zone des résidences : False\n",
      "Le point S est sur le stade, en dehors de la zone des résidences : False\n"
     ]
    }
   ],
   "source": [
    "print(\"Le point X est dans la zone des résidences :\",is_in_Residence(X))\n",
    "print(\"Le point S est sur le stade, en dehors de la zone des résidences :\",is_in_Residence(S))"
   ]
  },
  {
   "cell_type": "code",
   "execution_count": 18,
   "metadata": {},
   "outputs": [
    {
     "name": "stdout",
     "output_type": "stream",
     "text": [
      "On devrait avoir 4.776244343647022  <  4.77057  <  4.764639052544197 et 4.7701600417806524  <  4.77057  <  4.771006381509515\n"
     ]
    }
   ],
   "source": [
    "yC1 = a1*X[0] + b1\n",
    "yC2 = a2*X[0] + b2\n",
    "yC3 = a3*X[0] + b3\n",
    "yC4 = a4*X[0] + b4\n",
    "print(\"On devrait avoir\",yC1,\" < \",X[1],\" < \",yC3, \"et\",yC4,\" < \",X[1],\" < \",yC2)"
   ]
  },
  {
   "cell_type": "markdown",
   "metadata": {},
   "source": [
    "# Méthode Pénalisation"
   ]
  },
  {
   "cell_type": "markdown",
   "metadata": {},
   "source": [
    "Dans cette méthode, on mesure la distance d'un point à un segment caractéristique de la zone des résidences, pour déterminer si ce point est dans la zone ou non.\n",
    "\n",
    "<img src=\"residence2.png\"/>"
   ]
  },
  {
   "cell_type": "markdown",
   "metadata": {},
   "source": [
    "Coordonnées des points A et B et détermination de l'équation caractéristique de la droite (AB)."
   ]
  },
  {
   "cell_type": "code",
   "execution_count": 19,
   "metadata": {
    "collapsed": true
   },
   "outputs": [],
   "source": [
    "A = [45.783316, 4.771082]\n",
    "B = [45.781445, 4.769982]\n",
    "a,b = param_affine(A,B)\n",
    "c = -1/a"
   ]
  },
  {
   "cell_type": "markdown",
   "metadata": {},
   "source": [
    "On propose alors une nouvelle fonction qui à partir d'une distance r0 considère que le point fait ou non partie de la zone des résidences.\n",
    "Cette fonction est à améliorer pour prendre en compte les extrémités de la zone des résidences."
   ]
  },
  {
   "cell_type": "code",
   "execution_count": 20,
   "metadata": {
    "collapsed": true
   },
   "outputs": [],
   "source": [
    "def is_in_Residence2(point):\n",
    "    \"\"\"point = [x,y]\"\"\"\n",
    "    x,y = point\n",
    "    d = y-c*x\n",
    "    x0 = (d-b)/(a-c)\n",
    "    y0 = a*x0+b\n",
    "    r=np.sqrt((x-x0)**2+(y-y0)**2)\n",
    "    r0 = 0.00045976248075233942\n",
    "    if r<r0:\n",
    "        return True\n",
    "    else:\n",
    "        return False"
   ]
  },
  {
   "cell_type": "markdown",
   "metadata": {},
   "source": [
    "La valeur r0 a été déterminée empiriquement en calculant la distance du point \"ES\" à la droite caractéristique. "
   ]
  },
  {
   "cell_type": "code",
   "execution_count": 22,
   "metadata": {},
   "outputs": [
    {
     "name": "stdout",
     "output_type": "stream",
     "text": [
      "S ne fait pas partie de la zone Résidences :  False\n",
      "X fait partie de la zone Résidences :  True\n"
     ]
    }
   ],
   "source": [
    "print(\"S ne fait pas partie de la zone Résidences : \",is_in_Residence2(S))\n",
    "print(\"X fait partie de la zone Résidences : \",is_in_Residence2(X))"
   ]
  },
  {
   "cell_type": "code",
   "execution_count": null,
   "metadata": {
    "collapsed": true
   },
   "outputs": [],
   "source": []
  }
 ],
 "metadata": {
  "kernelspec": {
   "display_name": "Python 3",
   "language": "python",
   "name": "python3"
  },
  "language_info": {
   "codemirror_mode": {
    "name": "ipython",
    "version": 3
   },
   "file_extension": ".py",
   "mimetype": "text/x-python",
   "name": "python",
   "nbconvert_exporter": "python",
   "pygments_lexer": "ipython3",
   "version": "3.6.1"
  }
 },
 "nbformat": 4,
 "nbformat_minor": 2
}
