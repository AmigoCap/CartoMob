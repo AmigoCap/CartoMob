{
 "cells": [
  {
   "cell_type": "code",
   "execution_count": 13,
   "metadata": {},
   "outputs": [
    {
     "name": "stdout",
     "output_type": "stream",
     "text": [
      "                                             locations\n",
      "0    {'timestampMs': '1510143899627', 'latitudeE7':...\n",
      "1    {'timestampMs': '1510141834989', 'latitudeE7':...\n",
      "2    {'timestampMs': '1510141561958', 'latitudeE7':...\n",
      "3    {'timestampMs': '1510141474692', 'latitudeE7':...\n",
      "4    {'timestampMs': '1510141335040', 'latitudeE7':...\n",
      "5    {'timestampMs': '1510138980607', 'latitudeE7':...\n",
      "6    {'timestampMs': '1510132316998', 'latitudeE7':...\n",
      "7    {'timestampMs': '1510129127937', 'latitudeE7':...\n",
      "8    {'timestampMs': '1510128917581', 'latitudeE7':...\n",
      "9    {'timestampMs': '1510128669155', 'latitudeE7':...\n",
      "10   {'timestampMs': '1510128661794', 'latitudeE7':...\n",
      "11   {'timestampMs': '1510128608772', 'latitudeE7':...\n",
      "12   {'timestampMs': '1510128374770', 'latitudeE7':...\n",
      "13   {'timestampMs': '1510124068747', 'latitudeE7':...\n",
      "14   {'timestampMs': '1510123955806', 'latitudeE7':...\n",
      "15   {'timestampMs': '1510122333020', 'latitudeE7':...\n",
      "16   {'timestampMs': '1510122022489', 'latitudeE7':...\n",
      "17   {'timestampMs': '1510121762501', 'latitudeE7':...\n",
      "18   {'timestampMs': '1510121455135', 'latitudeE7':...\n",
      "19   {'timestampMs': '1510075212086', 'latitudeE7':...\n",
      "20   {'timestampMs': '1510070674799', 'latitudeE7':...\n",
      "21   {'timestampMs': '1510067790467', 'latitudeE7':...\n",
      "22   {'timestampMs': '1510067590999', 'latitudeE7':...\n",
      "23   {'timestampMs': '1510067104340', 'latitudeE7':...\n",
      "24   {'timestampMs': '1510059252452', 'latitudeE7':...\n",
      "25   {'timestampMs': '1510057080978', 'latitudeE7':...\n",
      "26   {'timestampMs': '1510056988424', 'latitudeE7':...\n",
      "27   {'timestampMs': '1510056702796', 'latitudeE7':...\n",
      "28   {'timestampMs': '1510056424698', 'latitudeE7':...\n",
      "29   {'timestampMs': '1510056416406', 'latitudeE7':...\n",
      "..                                                 ...\n",
      "536  {'timestampMs': '1508957631435', 'latitudeE7':...\n",
      "537  {'timestampMs': '1508957340087', 'latitudeE7':...\n",
      "538  {'timestampMs': '1508957326794', 'latitudeE7':...\n",
      "539  {'timestampMs': '1508956044367', 'latitudeE7':...\n",
      "540  {'timestampMs': '1508952931363', 'latitudeE7':...\n",
      "541  {'timestampMs': '1508950152761', 'latitudeE7':...\n",
      "542  {'timestampMs': '1508944034378', 'latitudeE7':...\n",
      "543  {'timestampMs': '1508943293254', 'latitudeE7':...\n",
      "544  {'timestampMs': '1508936764017', 'latitudeE7':...\n",
      "545  {'timestampMs': '1508927735364', 'latitudeE7':...\n",
      "546  {'timestampMs': '1508924966893', 'latitudeE7':...\n",
      "547  {'timestampMs': '1508919402749', 'latitudeE7':...\n",
      "548  {'timestampMs': '1508919109415', 'latitudeE7':...\n",
      "549  {'timestampMs': '1508910895736', 'latitudeE7':...\n",
      "550  {'timestampMs': '1508880330004', 'latitudeE7':...\n",
      "551  {'timestampMs': '1508869647773', 'latitudeE7':...\n",
      "552  {'timestampMs': '1508866783917', 'latitudeE7':...\n",
      "553  {'timestampMs': '1508862142307', 'latitudeE7':...\n",
      "554  {'timestampMs': '1508861537999', 'latitudeE7':...\n",
      "555  {'timestampMs': '1508854613836', 'latitudeE7':...\n",
      "556  {'timestampMs': '1508853889764', 'latitudeE7':...\n",
      "557  {'timestampMs': '1508853759879', 'latitudeE7':...\n",
      "558  {'timestampMs': '1508846529762', 'latitudeE7':...\n",
      "559  {'timestampMs': '1508846341758', 'latitudeE7':...\n",
      "560  {'timestampMs': '1508845505975', 'latitudeE7':...\n",
      "561  {'timestampMs': '1508843525102', 'latitudeE7':...\n",
      "562  {'timestampMs': '1508843135834', 'latitudeE7':...\n",
      "563  {'timestampMs': '1508840580021', 'latitudeE7':...\n",
      "564  {'timestampMs': '1508837909493', 'latitudeE7':...\n",
      "565  {'timestampMs': '1508788077775', 'latitudeE7':...\n",
      "\n",
      "[566 rows x 1 columns]\n"
     ]
    }
   ],
   "source": [
    "# Quelques imports\n",
    "import json\n",
    "import pandas as pd\n",
    "import matplotlib.pyplot as plt\n",
    "\n",
    "#Lecture du fichier\n",
    "file = \"Historique des positions.json\"\n",
    "df = pd.read_json(file)\n",
    "print(df)\n"
   ]
  },
  {
   "cell_type": "code",
   "execution_count": 5,
   "metadata": {
    "scrolled": true
   },
   "outputs": [
    {
     "name": "stdout",
     "output_type": "stream",
     "text": [
      "0      {'timestampMs': '1510143899627', 'latitudeE7':...\n",
      "1      {'timestampMs': '1510141834989', 'latitudeE7':...\n",
      "2      {'timestampMs': '1510141561958', 'latitudeE7':...\n",
      "3      {'timestampMs': '1510141474692', 'latitudeE7':...\n",
      "4      {'timestampMs': '1510141335040', 'latitudeE7':...\n",
      "5      {'timestampMs': '1510138980607', 'latitudeE7':...\n",
      "6      {'timestampMs': '1510132316998', 'latitudeE7':...\n",
      "7      {'timestampMs': '1510129127937', 'latitudeE7':...\n",
      "8      {'timestampMs': '1510128917581', 'latitudeE7':...\n",
      "9      {'timestampMs': '1510128669155', 'latitudeE7':...\n",
      "10     {'timestampMs': '1510128661794', 'latitudeE7':...\n",
      "11     {'timestampMs': '1510128608772', 'latitudeE7':...\n",
      "12     {'timestampMs': '1510128374770', 'latitudeE7':...\n",
      "13     {'timestampMs': '1510124068747', 'latitudeE7':...\n",
      "14     {'timestampMs': '1510123955806', 'latitudeE7':...\n",
      "15     {'timestampMs': '1510122333020', 'latitudeE7':...\n",
      "16     {'timestampMs': '1510122022489', 'latitudeE7':...\n",
      "17     {'timestampMs': '1510121762501', 'latitudeE7':...\n",
      "18     {'timestampMs': '1510121455135', 'latitudeE7':...\n",
      "19     {'timestampMs': '1510075212086', 'latitudeE7':...\n",
      "20     {'timestampMs': '1510070674799', 'latitudeE7':...\n",
      "21     {'timestampMs': '1510067790467', 'latitudeE7':...\n",
      "22     {'timestampMs': '1510067590999', 'latitudeE7':...\n",
      "23     {'timestampMs': '1510067104340', 'latitudeE7':...\n",
      "24     {'timestampMs': '1510059252452', 'latitudeE7':...\n",
      "25     {'timestampMs': '1510057080978', 'latitudeE7':...\n",
      "26     {'timestampMs': '1510056988424', 'latitudeE7':...\n",
      "27     {'timestampMs': '1510056702796', 'latitudeE7':...\n",
      "28     {'timestampMs': '1510056424698', 'latitudeE7':...\n",
      "29     {'timestampMs': '1510056416406', 'latitudeE7':...\n",
      "                             ...                        \n",
      "536    {'timestampMs': '1508957631435', 'latitudeE7':...\n",
      "537    {'timestampMs': '1508957340087', 'latitudeE7':...\n",
      "538    {'timestampMs': '1508957326794', 'latitudeE7':...\n",
      "539    {'timestampMs': '1508956044367', 'latitudeE7':...\n",
      "540    {'timestampMs': '1508952931363', 'latitudeE7':...\n",
      "541    {'timestampMs': '1508950152761', 'latitudeE7':...\n",
      "542    {'timestampMs': '1508944034378', 'latitudeE7':...\n",
      "543    {'timestampMs': '1508943293254', 'latitudeE7':...\n",
      "544    {'timestampMs': '1508936764017', 'latitudeE7':...\n",
      "545    {'timestampMs': '1508927735364', 'latitudeE7':...\n",
      "546    {'timestampMs': '1508924966893', 'latitudeE7':...\n",
      "547    {'timestampMs': '1508919402749', 'latitudeE7':...\n",
      "548    {'timestampMs': '1508919109415', 'latitudeE7':...\n",
      "549    {'timestampMs': '1508910895736', 'latitudeE7':...\n",
      "550    {'timestampMs': '1508880330004', 'latitudeE7':...\n",
      "551    {'timestampMs': '1508869647773', 'latitudeE7':...\n",
      "552    {'timestampMs': '1508866783917', 'latitudeE7':...\n",
      "553    {'timestampMs': '1508862142307', 'latitudeE7':...\n",
      "554    {'timestampMs': '1508861537999', 'latitudeE7':...\n",
      "555    {'timestampMs': '1508854613836', 'latitudeE7':...\n",
      "556    {'timestampMs': '1508853889764', 'latitudeE7':...\n",
      "557    {'timestampMs': '1508853759879', 'latitudeE7':...\n",
      "558    {'timestampMs': '1508846529762', 'latitudeE7':...\n",
      "559    {'timestampMs': '1508846341758', 'latitudeE7':...\n",
      "560    {'timestampMs': '1508845505975', 'latitudeE7':...\n",
      "561    {'timestampMs': '1508843525102', 'latitudeE7':...\n",
      "562    {'timestampMs': '1508843135834', 'latitudeE7':...\n",
      "563    {'timestampMs': '1508840580021', 'latitudeE7':...\n",
      "564    {'timestampMs': '1508837909493', 'latitudeE7':...\n",
      "565    {'timestampMs': '1508788077775', 'latitudeE7':...\n",
      "Name: locations, Length: 566, dtype: object\n"
     ]
    }
   ],
   "source": [
    "donnee=df.get(\"locations\")\n",
    "print(donnee)"
   ]
  },
  {
   "cell_type": "code",
   "execution_count": 17,
   "metadata": {},
   "outputs": [
    {
     "data": {
      "image/png": "[encoded data removed]",
      "text/plain": [
       "<matplotlib.figure.Figure at 0x11d4e7dd8>"
      ]
     },
     "metadata": {},
     "output_type": "display_data"
    }
   ],
   "source": [
    "#Récupération des latitudes, longitudes et des dates\n",
    "lat=[]\n",
    "long=[]\n",
    "temps=[]\n",
    "\n",
    "for i in range(len(donnee)):\n",
    "    lat.append(donnee[1][\"latitudeE7\"]/1e7)\n",
    "    long.append(donnee[i][\"longitudeE7\"]/1e7)\n",
    "    temps.append(donnee[i][\"timestampMs\"])\n",
    "    \n",
    "plt.plot(long,lat)\n",
    "plt.xlabel('longitude')\n",
    "plt.ylabel('latitude')\n",
    "plt.show()"
   ]
  },
  {
   "cell_type": "markdown",
   "metadata": {},
   "source": [
    "On reconnait ici les trajets en train effectués (Strasbourg-Lyon, Paris-Lyon)\n",
    "Paris (48.8, 2.3)\n",
    "Lyon(45, 4.8)\n",
    "Strasbourg(48.5, 7.7)"
   ]
  },
  {
   "cell_type": "code",
   "execution_count": null,
   "metadata": {
    "collapsed": true
   },
   "outputs": [],
   "source": []
  },
  {
   "cell_type": "code",
   "execution_count": null,
   "metadata": {
    "collapsed": true
   },
   "outputs": [],
   "source": []
  }
 ],
 "metadata": {
  "kernelspec": {
   "display_name": "Python 3",
   "language": "python",
   "name": "python3"
  },
  "language_info": {
   "codemirror_mode": {
    "name": "ipython",
    "version": 3
   },
   "file_extension": ".py",
   "mimetype": "text/x-python",
   "name": "python",
   "nbconvert_exporter": "python",
   "pygments_lexer": "ipython3",
   "version": "3.6.3"
  }
 },
 "nbformat": 4,
 "nbformat_minor": 2
}
