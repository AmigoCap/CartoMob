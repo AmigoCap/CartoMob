{
 "cells": [
  {
   "cell_type": "markdown",
   "metadata": {},
   "source": [
    "# <center> Définition des zones géographiques du campus"
   ]
  },
  {
   "cell_type": "code",
   "execution_count": null,
   "metadata": {
    "collapsed": true
   },
   "outputs": [],
   "source": [
    "# Quelques imports\n",
    "import json\n",
    "import pandas as pd\n",
    "import matplotlib.pyplot as plt\n",
    "import time\n",
    "\n",
    "\n",
    "#Lecture du fichier\n",
    "file = \"Historique des positions raphael 140218.json\"\n",
    "df = pd.read_json(file)\n",
    "#print(df)\n",
    "donnee=df.get(\"locations\")\n",
    "#print(donnee)\n",
    "\n",
    "\n",
    "#Récupération des données brutes\n",
    "lat,long,temps=[],[],[]\n",
    "for i in range(len(donnee)):\n",
    "    lat.append(donnee[i][\"latitudeE7\"]/1e7)\n",
    "    long.append(donnee[i][\"longitudeE7\"]/1e7)\n",
    "    temps.append(donnee[i][\"timestampMs\"])\n"
   ]
  },
  {
   "cell_type": "markdown",
   "metadata": {
    "collapsed": true
   },
   "source": [
    "On se propose à présent de définir les principales zones géographiques du campus (entrée, labos, résiedences...)"
   ]
  },
  {
   "cell_type": "code",
   "execution_count": null,
   "metadata": {
    "collapsed": true
   },
   "outputs": [],
   "source": [
    "# ZONE DES LABOS\n",
    "\n",
    "datafile4 = 'zone_labo.png'\n",
    "img4 = plt.imread(datafile4)\n",
    "plt.scatter(long,lat,zorder=1)\n",
    "x1=[]\n",
    "y1=[]\n",
    "for i in range(len(lat)):\n",
    "    if lat[i]>((0.41)*(long[i])+43.8292) and lat[i]<((0.393)*(long[i])+43.912) and lat[i]<(-1.25*(long[i])+51.747) and lat[i]>(-81.5*(long[i])+434.175):\n",
    "        x1.append(long[i])  \n",
    "        y1.append(lat[i]) \n",
    "\n",
    "plt.scatter(x1,y1,color='red') \n",
    "plt.imshow(img4,zorder=0,extent = [4.76474,4.77111,45.78357,45.78654])\n",
    "\n",
    "plt.show()"
   ]
  },
  {
   "cell_type": "code",
   "execution_count": null,
   "metadata": {
    "collapsed": true
   },
   "outputs": [],
   "source": [
    "# ZONE W1/W1bis\n",
    "\n",
    "datafile4 = 'carte_w1_w1bis.png'\n",
    "img4 = plt.imread(datafile4)\n",
    "plt.scatter(long,lat,zorder=1)\n",
    "x1=[]\n",
    "y1=[]\n",
    "for i in range(len(lat)):\n",
    "    if lat[i]>((-1.1627)*(long[i])+51.32236) and lat[i]<((-1.6666)*(long[i])+53.7361) and lat[i]<(0.5699*(long[i])+43.06686) and lat[i]>(0.611*(long[i])+42.86844):\n",
    "        x1.append(long[i])  \n",
    "        y1.append(lat[i]) \n",
    "\n",
    "plt.scatter(x1,y1,color='red') \n",
    "plt.imshow(img4,zorder=0,extent = [4.76471,4.77209,45.78041,45.78603])\n",
    "\n",
    "plt.show()"
   ]
  },
  {
   "cell_type": "code",
   "execution_count": null,
   "metadata": {
    "collapsed": true
   },
   "outputs": [],
   "source": [
    "#Zone M14,M15,M16\n",
    "\n",
    "datafile4 = 'M14_15_16.png'\n",
    "img4 = plt.imread(datafile4)\n",
    "plt.scatter(long,lat,zorder=1)\n",
    "x1=[]\n",
    "y1=[]\n",
    "for i in range(len(lat)):\n",
    "    if lat[i]>((-1.2778)*(long[i])+51.879) and lat[i]<((-1.6)*(long[i])+53.41658) and lat[i]<(0.175*(long[i])+44.9496525) and lat[i]>(0.5*(long[i])+43.3909):\n",
    "        x1.append(long[i])  \n",
    "        y1.append(lat[i]) \n",
    "\n",
    "plt.scatter(x1,y1,color='red') \n",
    "plt.imshow(img4,zorder=0,extent = [4.7680,4.77194,45.78282,45.7847])\n",
    "\n",
    "plt.show()"
   ]
  },
  {
   "cell_type": "code",
   "execution_count": null,
   "metadata": {
    "collapsed": true
   },
   "outputs": [],
   "source": [
    "#Zone de l'ENTREE principale\n",
    "\n",
    "datafile4 = 'carte_entree.png'\n",
    "img4 = plt.imread(datafile4)\n",
    "plt.scatter(long,lat,zorder=1)\n",
    "x1=[]\n",
    "y1=[]\n",
    "for i in range(len(lat)):\n",
    "    if lat[i]>((0.42857)*(long[i])+43.74) and lat[i]<((0.375)*(long[i])+43.9962) and lat[i]<(-1*(long[i])+50.5508) and lat[i]>4.7762:\n",
    "        x1.append(long[i])  \n",
    "        y1.append(lat[i]) \n",
    "\n",
    "plt.scatter(x1,y1,color='red') \n",
    "plt.imshow(img4,zorder=0,extent = [4.76555,4.76962,45.7823,45.78409])\n",
    "\n",
    "plt.show()"
   ]
  },
  {
   "cell_type": "code",
   "execution_count": null,
   "metadata": {
    "collapsed": true
   },
   "outputs": [],
   "source": [
    "#Zone des RESIDENCES\n",
    "datafile4 = 'carte_residence.png'\n",
    "img4 = plt.imread(datafile4)\n",
    "plt.scatter(long,lat,zorder=1)\n",
    "x1=[]\n",
    "y1=[]\n",
    "for i in range(len(lat)):\n",
    "    if lat[i]>((1.8333)*(long[i])+37.0358) and lat[i]<((1.6923)*(long[i])+37.71) and lat[i]<(-0.2*(long[i])+46.73768) and lat[i]>(-1.66667*(long[i])+46.576233):\n",
    "        x1.append(long[i])  \n",
    "        y1.append(lat[i]) \n",
    "\n",
    "plt.scatter(x1,y1,color='red') \n",
    "plt.imshow(img4,zorder=0,extent = [4.76773,4.77246,45.78121,45.78357])\n",
    "\n",
    "plt.show()"
   ]
  },
  {
   "cell_type": "code",
   "execution_count": null,
   "metadata": {
    "collapsed": true
   },
   "outputs": [],
   "source": [
    "#Zone de l'ENTREE par Charrière blanche\n",
    "\n",
    "datafile4 = 'carte_entree_charriere_blanche.png'\n",
    "img4 = plt.imread(datafile4)\n",
    "plt.scatter(long,lat,zorder=1)\n",
    "x1=[]\n",
    "y1=[]\n",
    "for i in range(len(lat)):\n",
    "    if lat[i]>((-0.3357)*(long[i])+47.38) and lat[i]<((-0.575)*(long[i])+48.523) and lat[i]<(0.6142857*(long[i])+42.8528814) and lat[i]>(0.42*(long[i])+43.778):\n",
    "        x1.append(long[i])  \n",
    "        y1.append(lat[i]) \n",
    "\n",
    "plt.scatter(x1,y1,color='red') \n",
    "plt.imshow(img4,zorder=0,extent = [4.76655,4.76971,45.78047,45.78194])\n",
    "\n",
    "plt.show()"
   ]
  },
  {
   "cell_type": "code",
   "execution_count": null,
   "metadata": {
    "collapsed": true
   },
   "outputs": [],
   "source": [
    "#Zone de l'ENTREE par Chemin des Mouilles\n",
    "\n",
    "datafile4 = 'carte_entree_chemin_des_mouilles.png'\n",
    "img4 = plt.imread(datafile4)\n",
    "plt.scatter(long,lat,zorder=1)\n",
    "x1=[]\n",
    "y1=[]\n",
    "for i in range(len(lat)):\n",
    "    if lat[i]>((-1.1)*(long[i])+51.03143) and lat[i]<((-2.0667)*(long[i])+55.64414) and lat[i]<(0.3125*(long[i])+44.294) and lat[i]>(0.3*(long[i])+44.35301):\n",
    "        x1.append(long[i])  \n",
    "        y1.append(lat[i]) \n",
    "\n",
    "plt.scatter(x1,y1,color='red') \n",
    "plt.imshow(img4,zorder=0,extent = [4.76882,4.77133,45.78379,45.78502])\n",
    "\n",
    "plt.show()"
   ]
  }
 ],
 "metadata": {
  "kernelspec": {
   "display_name": "Python 3",
   "language": "python",
   "name": "python3"
  },
  "language_info": {
   "codemirror_mode": {
    "name": "ipython",
    "version": 3
   },
   "file_extension": ".py",
   "mimetype": "text/x-python",
   "name": "python",
   "nbconvert_exporter": "python",
   "pygments_lexer": "ipython3",
   "version": "3.6.3"
  }
 },
 "nbformat": 4,
 "nbformat_minor": 2
}
